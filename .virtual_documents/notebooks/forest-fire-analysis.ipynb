suppressPackageStartupMessages({
    library(tidyverse)
    library(tidymodels)
    library(GGally)})

options(repr.plot.width = 15, repr.plot.height = 12)

source("../src/R/data_cleaning.R")
source("../src/R/correlation_graph.R")
source("../src/R/recipe_scale_center.R")


fire_data <- read_csv("../data/forestfires.csv", show_col_types = FALSE)
fire_data <- data_cleaning(fire_data, c('X','Y','month','day'))
"Table 1: Tidied Data"
head(fire_data)


set.seed(2022)
fire_split <- initial_split(fire_data, prop = 0.75, strata = area)
fire_train <- training(fire_split)
fire_test <- testing(fire_split)

fire_recipe <- recipe_scale_center(fire_train, area ~ .)

fire_scaled <- fire_recipe %>%
            prep() %>%
            bake(fire_train)


correlation_graph(fire_scaled, "Figure 1: Correlation Matrix Between Pairs of Variables")


cor_data <- fire_scaled %>% select(DC, DMC, ISI, FFMC, temp, RH)

correlation_graph(cor_data, "Figure 2: Correlation Matrix Between Pairs of Variables with Large Correlation Values")


fire_recipe <- recipe_scale_center(fire_train, area ~ DC + DMC + ISI + FFMC + temp + RH)

fire_spec <- nearest_neighbor(weight_func = "rectangular", neighbors = tune()) %>%
            set_engine("kknn") %>%
            set_mode("regression")

fire_cv <- vfold_cv(fire_train, v = 5, strata = area)

fire_wkflw <- workflow() %>%
            add_recipe(fire_recipe) %>%
            add_model(fire_spec)

gridvals <- tibble(neighbors = seq(from = 1, to = 200, by = 3))

fire_results <- fire_wkflw %>%
            tune_grid(resamples = fire_cv, grid = gridvals) %>%
            collect_metrics() %>%
            filter(.metric == "rmse")

min_rmse <- fire_results %>%
            filter(mean == min(mean))

k_min <- min_rmse %>%
        pull(neighbors)

"Table 2: The Number of Neighbors with the Minimum RMSE"
min_rmse


test_spec <- nearest_neighbor(weight_func = "rectangular", neighbors = k_min) %>%
            set_engine("kknn") %>%
            set_mode("regression")

fire_fit <- workflow() %>%
            add_recipe(fire_recipe) %>%
            add_model(test_spec) %>%
            fit(data = fire_train)

fire_summary <- fire_fit %>%
                predict(fire_test) %>%
                bind_cols(fire_test) %>%
                metrics(truth = area, estimate = .pred) %>%
                filter(.metric == "rmse")

"Table 3: Testing RMSE"
fire_summary
